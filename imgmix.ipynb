{
 "cells": [
  {
   "cell_type": "code",
   "execution_count": 1,
   "id": "3b653954-a1b3-4d5a-b854-d0d0ffb750c6",
   "metadata": {
    "tags": []
   },
   "outputs": [],
   "source": [
    "from datetime import datetime\n",
    "from os import path\n",
    "from io import BytesIO\n",
    "from PIL import Image\n",
    "import torch\n",
    "import ipywidgets as widgets\n",
    "from kandinsky2 import get_kandinsky2"
   ]
  },
  {
   "cell_type": "code",
   "execution_count": 6,
   "id": "973f563f-8af2-4d8e-9d26-1987683c23c9",
   "metadata": {
    "tags": []
   },
   "outputs": [
    {
     "name": "stderr",
     "output_type": "stream",
     "text": [
      "/mnt/h/AIart/stable-diffusion/stable-diffusion-webui/venv/lib/python3.10/site-packages/huggingface_hub/file_download.py:637: FutureWarning: `cached_download` is the legacy way to download files from the HF hub, please consider upgrading to `hf_hub_download`\n",
      "  warnings.warn(\n"
     ]
    },
    {
     "name": "stdout",
     "output_type": "stream",
     "text": [
      "making attention of type 'vanilla' with 512 in_channels\n",
      "making attention of type 'vanilla' with 512 in_channels\n",
      "making attention of type 'vanilla' with 512 in_channels\n",
      "Working with z of shape (1, 4, 32, 32) = 4096 dimensions.\n"
     ]
    }
   ],
   "source": [
    "model = get_kandinsky2(\n",
    "    'cuda', \n",
    "    task_type='text2img', \n",
    "    cache_dir='/tmp/kandinsky2', \n",
    "    model_version='2.1', \n",
    "    use_flash_attention=False\n",
    ")\n",
    "\n",
    "def torch_gc():\n",
    "   with torch.cuda.device(\"cuda\"):\n",
    "        torch.cuda.empty_cache()\n",
    "        torch.cuda.ipc_collect()"
   ]
  },
  {
   "cell_type": "code",
   "execution_count": 2,
   "id": "83ae0409-e230-4809-a0d6-8ec5c4374959",
   "metadata": {
    "tags": []
   },
   "outputs": [
    {
     "data": {
      "application/vnd.jupyter.widget-view+json": {
       "model_id": "8eaa2b29c6054ad0aa9ce106e7b2b9d9",
       "version_major": 2,
       "version_minor": 0
      },
      "text/plain": [
       "Checkbox(value=False, description='Display image per iteration')"
      ]
     },
     "metadata": {},
     "output_type": "display_data"
    },
    {
     "data": {
      "application/vnd.jupyter.widget-view+json": {
       "model_id": "70b45263ad284b1db737fd88e2274a69",
       "version_major": 2,
       "version_minor": 0
      },
      "text/plain": [
       "Checkbox(value=False, description='Save all out images')"
      ]
     },
     "metadata": {},
     "output_type": "display_data"
    },
    {
     "data": {
      "application/vnd.jupyter.widget-view+json": {
       "model_id": "a008a4caeef74eea829bce61dac14a6a",
       "version_major": 2,
       "version_minor": 0
      },
      "text/plain": [
       "Text(value='', description='Save path:')"
      ]
     },
     "metadata": {},
     "output_type": "display_data"
    },
    {
     "data": {
      "application/vnd.jupyter.widget-view+json": {
       "model_id": "92018d094d2b45c78dc8751a6884df2c",
       "version_major": 2,
       "version_minor": 0
      },
      "text/plain": [
       "Text(value='formatted_now', description='Name prefix:')"
      ]
     },
     "metadata": {},
     "output_type": "display_data"
    },
    {
     "data": {
      "application/vnd.jupyter.widget-view+json": {
       "model_id": "e9fa2b04cef6497f8eea46de04781371",
       "version_major": 2,
       "version_minor": 0
      },
      "text/plain": [
       "FileUpload(value=(), accept='image/*', description='Upload')"
      ]
     },
     "metadata": {},
     "output_type": "display_data"
    },
    {
     "data": {
      "application/vnd.jupyter.widget-view+json": {
       "model_id": "1b00973a55f142e89ecd24878924702a",
       "version_major": 2,
       "version_minor": 0
      },
      "text/plain": [
       "FileUpload(value=(), accept='image/*', description='Upload')"
      ]
     },
     "metadata": {},
     "output_type": "display_data"
    },
    {
     "data": {
      "text/html": [
       "<pre style=\"white-space:pre;overflow-x:auto;line-height:normal;font-family:Menlo,'DejaVu Sans Mono',consolas,'Courier New',monospace\"><span style=\"color: #800000; text-decoration-color: #800000\">╭─────────────────────────────── </span><span style=\"color: #800000; text-decoration-color: #800000; font-weight: bold\">Traceback </span><span style=\"color: #bf7f7f; text-decoration-color: #bf7f7f; font-weight: bold\">(most recent call last)</span><span style=\"color: #800000; text-decoration-color: #800000\"> ────────────────────────────────╮</span>\n",
       "<span style=\"color: #800000; text-decoration-color: #800000\">│</span> in <span style=\"color: #00ff00; text-decoration-color: #00ff00\">&lt;module&gt;</span>                                                                                      <span style=\"color: #800000; text-decoration-color: #800000\">│</span>\n",
       "<span style=\"color: #800000; text-decoration-color: #800000\">│</span>                                                                                                  <span style=\"color: #800000; text-decoration-color: #800000\">│</span>\n",
       "<span style=\"color: #800000; text-decoration-color: #800000\">│</span>   <span style=\"color: #7f7f7f; text-decoration-color: #7f7f7f\"> 31 </span>display(img2)                                                                              <span style=\"color: #800000; text-decoration-color: #800000\">│</span>\n",
       "<span style=\"color: #800000; text-decoration-color: #800000\">│</span>   <span style=\"color: #7f7f7f; text-decoration-color: #7f7f7f\"> 32 </span>                                                                                           <span style=\"color: #800000; text-decoration-color: #800000\">│</span>\n",
       "<span style=\"color: #800000; text-decoration-color: #800000\">│</span>   <span style=\"color: #7f7f7f; text-decoration-color: #7f7f7f\"> 33 </span>preview1 = widgets.Image(                                                                  <span style=\"color: #800000; text-decoration-color: #800000\">│</span>\n",
       "<span style=\"color: #800000; text-decoration-color: #800000\">│</span> <span style=\"color: #800000; text-decoration-color: #800000\">❱ </span> 34 <span style=\"color: #7f7f7f; text-decoration-color: #7f7f7f\">│   </span>value=img1.value[<span style=\"color: #0000ff; text-decoration-color: #0000ff\">0</span>][<span style=\"color: #808000; text-decoration-color: #808000\">\"content\"</span>],                                                        <span style=\"color: #800000; text-decoration-color: #800000\">│</span>\n",
       "<span style=\"color: #800000; text-decoration-color: #800000\">│</span>   <span style=\"color: #7f7f7f; text-decoration-color: #7f7f7f\"> 35 │   </span><span style=\"color: #00ffff; text-decoration-color: #00ffff\">format</span>=<span style=\"color: #808000; text-decoration-color: #808000\">'png'</span>,                                                                          <span style=\"color: #800000; text-decoration-color: #800000\">│</span>\n",
       "<span style=\"color: #800000; text-decoration-color: #800000\">│</span>   <span style=\"color: #7f7f7f; text-decoration-color: #7f7f7f\"> 36 │   </span>width=<span style=\"color: #0000ff; text-decoration-color: #0000ff\">300</span>,                                                                             <span style=\"color: #800000; text-decoration-color: #800000\">│</span>\n",
       "<span style=\"color: #800000; text-decoration-color: #800000\">│</span>   <span style=\"color: #7f7f7f; text-decoration-color: #7f7f7f\"> 37 │   </span>height=<span style=\"color: #0000ff; text-decoration-color: #0000ff\">400</span>,                                                                            <span style=\"color: #800000; text-decoration-color: #800000\">│</span>\n",
       "<span style=\"color: #800000; text-decoration-color: #800000\">╰──────────────────────────────────────────────────────────────────────────────────────────────────╯</span>\n",
       "<span style=\"color: #ff0000; text-decoration-color: #ff0000; font-weight: bold\">IndexError: </span>tuple index out of range\n",
       "</pre>\n"
      ],
      "text/plain": [
       "\u001b[31m╭─\u001b[0m\u001b[31m──────────────────────────────\u001b[0m\u001b[31m \u001b[0m\u001b[1;31mTraceback \u001b[0m\u001b[1;2;31m(most recent call last)\u001b[0m\u001b[31m \u001b[0m\u001b[31m───────────────────────────────\u001b[0m\u001b[31m─╮\u001b[0m\n",
       "\u001b[31m│\u001b[0m in \u001b[92m<module>\u001b[0m                                                                                      \u001b[31m│\u001b[0m\n",
       "\u001b[31m│\u001b[0m                                                                                                  \u001b[31m│\u001b[0m\n",
       "\u001b[31m│\u001b[0m   \u001b[2m 31 \u001b[0mdisplay(img2)                                                                              \u001b[31m│\u001b[0m\n",
       "\u001b[31m│\u001b[0m   \u001b[2m 32 \u001b[0m                                                                                           \u001b[31m│\u001b[0m\n",
       "\u001b[31m│\u001b[0m   \u001b[2m 33 \u001b[0mpreview1 = widgets.Image(                                                                  \u001b[31m│\u001b[0m\n",
       "\u001b[31m│\u001b[0m \u001b[31m❱ \u001b[0m 34 \u001b[2m│   \u001b[0mvalue=img1.value[\u001b[94m0\u001b[0m][\u001b[33m\"\u001b[0m\u001b[33mcontent\u001b[0m\u001b[33m\"\u001b[0m],                                                        \u001b[31m│\u001b[0m\n",
       "\u001b[31m│\u001b[0m   \u001b[2m 35 \u001b[0m\u001b[2m│   \u001b[0m\u001b[96mformat\u001b[0m=\u001b[33m'\u001b[0m\u001b[33mpng\u001b[0m\u001b[33m'\u001b[0m,                                                                          \u001b[31m│\u001b[0m\n",
       "\u001b[31m│\u001b[0m   \u001b[2m 36 \u001b[0m\u001b[2m│   \u001b[0mwidth=\u001b[94m300\u001b[0m,                                                                             \u001b[31m│\u001b[0m\n",
       "\u001b[31m│\u001b[0m   \u001b[2m 37 \u001b[0m\u001b[2m│   \u001b[0mheight=\u001b[94m400\u001b[0m,                                                                            \u001b[31m│\u001b[0m\n",
       "\u001b[31m╰──────────────────────────────────────────────────────────────────────────────────────────────────╯\u001b[0m\n",
       "\u001b[1;91mIndexError: \u001b[0mtuple index out of range\n"
      ]
     },
     "metadata": {},
     "output_type": "display_data"
    }
   ],
   "source": [
    "im_per_iter = widgets.Checkbox(\n",
    "    value=False,\n",
    "    description='Display image per iteration',\n",
    ")\n",
    "display(im_per_iter)\n",
    "\n",
    "def formatted_now():\n",
    "    return datetime.now().strftime(\"%Y-%m-%d_%H-%M-%S\")\n",
    "\n",
    "save_imgs = widgets.Checkbox(\n",
    "    value=False,\n",
    "    description='Save all out images',\n",
    ")\n",
    "display(save_imgs)\n",
    "\n",
    "save_path = widgets.Text(value=\"\", description='Save path:')\n",
    "display(save_path)\n",
    "\n",
    "img_name_prefix = widgets.Text(value=\"formatted_now\", description='Name prefix:')\n",
    "display(img_name_prefix)\n",
    "\n",
    "img1 = widgets.FileUpload(\n",
    "    accept='image/*',  # Accepted file extension e.g. '.txt', '.pdf', 'image/*', 'image/*,.pdf'\n",
    "    multiple=False  # True to accept multiple files upload else False\n",
    ")\n",
    "img2 = widgets.FileUpload(\n",
    "    accept='image/*',  # Accepted file extension e.g. '.txt', '.pdf', 'image/*', 'image/*,.pdf'\n",
    "    multiple=False  # True to accept multiple files upload else False\n",
    ")\n",
    "display(img1)\n",
    "display(img2)\n",
    "\n",
    "preview1 = widgets.Image(\n",
    "    value=img1.value[0][\"content\"],\n",
    "    format='png',\n",
    "    width=300,\n",
    "    height=400,\n",
    ")\n",
    "preview2 = widgets.Image(\n",
    "    value=img2.value[0][\"content\"],\n",
    "    format='png',\n",
    "    width=300,\n",
    "    height=400,\n",
    ")\n",
    "display(widgets.Box([preview1, preview2]))\n",
    "raw1 = BytesIO(img1.value[0][\"content\"].tobytes())\n",
    "pil1 = Image.open(raw1)\n",
    "raw2 = BytesIO(img1.value[0][\"content\"].tobytes())\n",
    "pil2 = Image.open(raw2)\n",
    "\n",
    "img_w1 = widgets.FloatSlider(\n",
    "    value=0.5,\n",
    "    min=0.0,\n",
    "    max=2.0,\n",
    "    step=0.1,\n",
    "    description='IMG1 weigth:',\n",
    "    readout_format='.1f',\n",
    ")\n",
    "display(img_w1)\n",
    "img_w2 = widgets.FloatSlider(\n",
    "    value=0.5,\n",
    "    min=0.0,\n",
    "    max=2.0,\n",
    "    step=0.1,\n",
    "    description='IMG2 weigth:',\n",
    "    readout_format='.1f',\n",
    ")\n",
    "display(img_w2)\n",
    "\n",
    "seed = widgets.IntText(\n",
    "    value=-1,\n",
    "    description='Seed:',\n",
    "    disabled=False\n",
    ")\n",
    "display(seed)\n",
    "\n",
    "steps = widgets.IntSlider(\n",
    "    value=30,\n",
    "    step=1,\n",
    "    description='Steps:',\n",
    ")\n",
    "display(steps)\n",
    "\n",
    "n_iter = widgets.IntSlider(\n",
    "    value=6,\n",
    "    min=1,\n",
    "    max=20,\n",
    "    step=1,\n",
    "    description='Total images:',\n",
    ")\n",
    "display(n_iter)\n",
    "\n",
    "cfg_scale = widgets.FloatSlider(\n",
    "    value=7.5,\n",
    "    min=1.0,\n",
    "    max=20.0,\n",
    "    step=0.25,\n",
    "    description='Cfg scale:',\n",
    "    readout_format='.1f',\n",
    ")\n",
    "display(cfg_scale)\n",
    "\n",
    "height = widgets.IntSlider(\n",
    "    value=768,\n",
    "    min=128,\n",
    "    max=4096,\n",
    "    step=2,\n",
    "    description='Height:',\n",
    ")\n",
    "display(height)\n",
    "\n",
    "width = widgets.IntSlider(\n",
    "    value=768,\n",
    "    min=128,\n",
    "    max=4096,\n",
    "    step=2,\n",
    "    description='Width:',\n",
    ")\n",
    "display(width)\n",
    "\n",
    "sampler = widgets.Dropdown(\n",
    "    options=['ddim_sampler', 'p_sampler', 'plms_sampler'],\n",
    "    value='p_sampler',\n",
    "    description='Sampler:',\n",
    "    disabled=False,\n",
    ")\n",
    "display(sampler)\n",
    "\n",
    "def images_processing(images):\n",
    "    for postfix, img in enumerate(images):\n",
    "        display(img)\n",
    "        if save_imgs.value:\n",
    "            prefix = locals().get(img_name_prefix.value, formatted_now)()\n",
    "            fname = f\"{prefix}_{postfix}.png\"\n",
    "            s_path = path.join(save_path.value, fname)\n",
    "            print(s_path)\n",
    "            img.save(s_path)\n",
    "\n",
    "def center_crop(image):\n",
    "    width, height = image.size\n",
    "    new_size = min(width, height)\n",
    "    left = (width - new_size) / 2\n",
    "    top = (height - new_size) / 2\n",
    "    right = (width + new_size) / 2\n",
    "    bottom = (height + new_size) / 2\n",
    "    return image.crop((left, top, right, bottom))\n",
    "\n",
    "prior_steps = widgets.IntSlider(\n",
    "    value=5,\n",
    "    min=1,\n",
    "    max=50,\n",
    "    step=1,\n",
    "    description='Prior steps:',\n",
    ")\n",
    "display(prior_steps)\n",
    "\n",
    "out = widgets.Output()\n",
    "\n",
    "@out.capture(clear_output=True)\n",
    "def imgmix(event):\n",
    "    if seed.value != -1:\n",
    "        torch.manual_seed(seed.value)\n",
    "        torch.cuda.manual_seed_all(seed.value)\n",
    "    \n",
    "    print([img_w1.value, img_w2.value])\n",
    "    images = []\n",
    "    for cur_iter in range(n_iter.value):\n",
    "        image_iter = model.mix_images(\n",
    "            [pil1, pil2], [img_w1.value, img_w2.value], \n",
    "            num_steps=steps.value,\n",
    "            batch_size=1, # batch_size.value,\n",
    "            guidance_scale=cfg_scale.value,\n",
    "            h=height.value,\n",
    "            w=width.value,\n",
    "            sampler=sampler.value, \n",
    "            prior_cf_scale=4,\n",
    "            prior_steps=str(prior_steps.value)\n",
    "        )\n",
    "        torch_gc()\n",
    "        if im_per_iter.value:\n",
    "            images_processing(image_iter)\n",
    "        else:\n",
    "            images.extend(image_iter)\n",
    "\n",
    "\n",
    "    if not im_per_iter.value and images:\n",
    "        images_processing(images)\n",
    "\n",
    "generate = widgets.Button(description=\"Generate\")\n",
    "display(generate)\n",
    "generate.on_click(imgmix)\n",
    "display(out)"
   ]
  }
 ],
 "metadata": {
  "kernelspec": {
   "display_name": "Python 3 (ipykernel)",
   "language": "python",
   "name": "python3"
  },
  "language_info": {
   "codemirror_mode": {
    "name": "ipython",
    "version": 3
   },
   "file_extension": ".py",
   "mimetype": "text/x-python",
   "name": "python",
   "nbconvert_exporter": "python",
   "pygments_lexer": "ipython3",
   "version": "3.10.6"
  }
 },
 "nbformat": 4,
 "nbformat_minor": 5
}
