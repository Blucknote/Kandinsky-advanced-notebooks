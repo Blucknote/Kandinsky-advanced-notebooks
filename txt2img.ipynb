{
 "cells": [
  {
   "cell_type": "code",
   "execution_count": null,
   "id": "67c054e2-be3f-49b9-b76d-c3f617b06900",
   "metadata": {},
   "outputs": [],
   "source": [
    "# Run this cell to get nice real time updating GPU widget\n",
    "!pip install jupyterlab-nvdashboard\n",
    "# ttps://developer.nvidia.com/blog/gpu-dashboards-in-jupyter-lab/"
   ]
  },
  {
   "cell_type": "code",
   "execution_count": 1,
   "id": "5a147249-219e-4036-a1c1-0741295ff808",
   "metadata": {
    "tags": []
   },
   "outputs": [],
   "source": [
    "from datetime import datetime\n",
    "from os import path"
   ]
  },
  {
   "cell_type": "code",
   "execution_count": 3,
   "id": "9699ad93-867f-4c33-9f79-4d5e929f8067",
   "metadata": {
    "tags": []
   },
   "outputs": [],
   "source": [
    "import torch"
   ]
  },
  {
   "cell_type": "code",
   "execution_count": 4,
   "id": "16ed8724-1ba2-46e0-907e-45bff485546b",
   "metadata": {
    "tags": []
   },
   "outputs": [],
   "source": [
    "import ipywidgets as widgets"
   ]
  },
  {
   "cell_type": "code",
   "execution_count": 5,
   "id": "ee227ae7-4070-4cd2-8e43-59f6229f7099",
   "metadata": {
    "tags": []
   },
   "outputs": [],
   "source": [
    "from kandinsky2 import get_kandinsky2"
   ]
  },
  {
   "cell_type": "code",
   "execution_count": 6,
   "id": "8ebc793d-e995-492e-9d3c-b77131c42210",
   "metadata": {
    "tags": []
   },
   "outputs": [
    {
     "name": "stderr",
     "output_type": "stream",
     "text": [
      "/mnt/h/AIart/stable-diffusion/stable-diffusion-webui/venv/lib/python3.10/site-packages/huggingface_hub/file_download.py:637: FutureWarning: `cached_download` is the legacy way to download files from the HF hub, please consider upgrading to `hf_hub_download`\n",
      "  warnings.warn(\n"
     ]
    },
    {
     "name": "stdout",
     "output_type": "stream",
     "text": [
      "making attention of type 'vanilla' with 512 in_channels\n",
      "making attention of type 'vanilla' with 512 in_channels\n",
      "making attention of type 'vanilla' with 512 in_channels\n",
      "Working with z of shape (1, 4, 32, 32) = 4096 dimensions.\n"
     ]
    }
   ],
   "source": [
    "model = get_kandinsky2(\n",
    "    'cuda', \n",
    "    task_type='text2img', \n",
    "    cache_dir='/tmp/kandinsky2', \n",
    "    model_version='2.1', \n",
    "    use_flash_attention=False\n",
    ")"
   ]
  },
  {
   "cell_type": "code",
   "execution_count": 7,
   "id": "1fb47c8e-bf21-4c53-a336-7b96a2f908f5",
   "metadata": {
    "tags": []
   },
   "outputs": [],
   "source": [
    "def torch_gc():\n",
    "   with torch.cuda.device(\"cuda\"):\n",
    "        torch.cuda.empty_cache()\n",
    "        torch.cuda.ipc_collect()"
   ]
  },
  {
   "cell_type": "code",
   "execution_count": 8,
   "id": "8cc9076c-5d56-4f3a-876f-16dc774d747d",
   "metadata": {
    "jupyter": {
     "source_hidden": true
    },
    "tags": []
   },
   "outputs": [
    {
     "data": {
      "application/vnd.jupyter.widget-view+json": {
       "model_id": "ece57b7a27cf409db20eaace7acd95df",
       "version_major": 2,
       "version_minor": 0
      },
      "text/plain": [
       "Checkbox(value=False, description='Display image per iteration')"
      ]
     },
     "metadata": {},
     "output_type": "display_data"
    }
   ],
   "source": [
    "im_per_iter = widgets.Checkbox(\n",
    "    value=False,\n",
    "    description='Display image per iteration',\n",
    ")\n",
    "display(im_per_iter)"
   ]
  },
  {
   "cell_type": "code",
   "execution_count": 9,
   "id": "8b9d2eb9-349f-4944-bf3c-e0739bd0d2db",
   "metadata": {
    "jupyter": {
     "source_hidden": true
    },
    "tags": []
   },
   "outputs": [],
   "source": [
    "def formatted_now():\n",
    "    return datetime.now().strftime(\"%Y-%m-%d_%H-%M-%S\")"
   ]
  },
  {
   "cell_type": "code",
   "execution_count": 10,
   "id": "7692719e-0590-455b-9582-99512cb5bd0d",
   "metadata": {
    "jupyter": {
     "source_hidden": true
    },
    "tags": []
   },
   "outputs": [
    {
     "data": {
      "application/vnd.jupyter.widget-view+json": {
       "model_id": "a6741f291f754194b04fae52dcd0767f",
       "version_major": 2,
       "version_minor": 0
      },
      "text/plain": [
       "Checkbox(value=False, description='Save all out images')"
      ]
     },
     "metadata": {},
     "output_type": "display_data"
    },
    {
     "data": {
      "application/vnd.jupyter.widget-view+json": {
       "model_id": "2fe39383fafd489dba88c3b7803ed526",
       "version_major": 2,
       "version_minor": 0
      },
      "text/plain": [
       "Text(value='', description='Save path:')"
      ]
     },
     "metadata": {},
     "output_type": "display_data"
    },
    {
     "data": {
      "application/vnd.jupyter.widget-view+json": {
       "model_id": "ad4334ab62ea46ceac140d7c42ebe412",
       "version_major": 2,
       "version_minor": 0
      },
      "text/plain": [
       "Text(value='formatted_now', description='Name prefix:')"
      ]
     },
     "metadata": {},
     "output_type": "display_data"
    }
   ],
   "source": [
    "save_imgs = widgets.Checkbox(\n",
    "    value=False,\n",
    "    description='Save all out images',\n",
    ")\n",
    "display(save_imgs)\n",
    "save_path = widgets.Text(value=\"\", description='Save path:')\n",
    "display(save_path)\n",
    "img_name_prefix = widgets.Text(value=\"formatted_now\", description='Name prefix:')\n",
    "display(img_name_prefix)"
   ]
  },
  {
   "cell_type": "code",
   "execution_count": 11,
   "id": "76817bca-cac0-413e-a118-f1af812406ac",
   "metadata": {
    "jupyter": {
     "source_hidden": true
    },
    "tags": []
   },
   "outputs": [
    {
     "data": {
      "application/vnd.jupyter.widget-view+json": {
       "model_id": "e253031ce83b48c8b05f0542c176883a",
       "version_major": 2,
       "version_minor": 0
      },
      "text/plain": [
       "Textarea(value='', description='Prompt:')"
      ]
     },
     "metadata": {},
     "output_type": "display_data"
    }
   ],
   "source": [
    "prompt = widgets.Textarea(value=\"\", description='Prompt:')\n",
    "display(prompt)"
   ]
  },
  {
   "cell_type": "code",
   "execution_count": 12,
   "id": "7c4ef378-be26-4a19-8bf7-6e56bc9fda0c",
   "metadata": {
    "jupyter": {
     "source_hidden": true
    },
    "tags": []
   },
   "outputs": [
    {
     "data": {
      "application/vnd.jupyter.widget-view+json": {
       "model_id": "95be8329cbe8487480de218785bf5344",
       "version_major": 2,
       "version_minor": 0
      },
      "text/plain": [
       "IntText(value=-1, description='Seed:')"
      ]
     },
     "metadata": {},
     "output_type": "display_data"
    }
   ],
   "source": [
    "seed = widgets.IntText(\n",
    "    value=-1,\n",
    "    description='Seed:',\n",
    "    disabled=False\n",
    ")\n",
    "display(seed)"
   ]
  },
  {
   "cell_type": "code",
   "execution_count": 13,
   "id": "22380e4a-ccd2-4209-981a-8294e8d8bfb3",
   "metadata": {
    "jupyter": {
     "source_hidden": true
    },
    "tags": []
   },
   "outputs": [
    {
     "data": {
      "application/vnd.jupyter.widget-view+json": {
       "model_id": "03090273f63d4838aab0a858770f470b",
       "version_major": 2,
       "version_minor": 0
      },
      "text/plain": [
       "IntSlider(value=30, description='Steps:')"
      ]
     },
     "metadata": {},
     "output_type": "display_data"
    }
   ],
   "source": [
    "steps = widgets.IntSlider(\n",
    "    value=30,\n",
    "    step=1,\n",
    "    description='Steps:',\n",
    ")\n",
    "display(steps)"
   ]
  },
  {
   "cell_type": "code",
   "execution_count": 14,
   "id": "f11a9af7-5ce6-4825-ab0b-80ae218918d6",
   "metadata": {
    "jupyter": {
     "source_hidden": true
    },
    "tags": []
   },
   "outputs": [
    {
     "data": {
      "application/vnd.jupyter.widget-view+json": {
       "model_id": "1a198423576f4e6ebb2ff0bdb466452c",
       "version_major": 2,
       "version_minor": 0
      },
      "text/plain": [
       "IntSlider(value=6, description='Total images:', max=20, min=1)"
      ]
     },
     "metadata": {},
     "output_type": "display_data"
    }
   ],
   "source": [
    "n_iter = widgets.IntSlider(\n",
    "    value=6,\n",
    "    min=1,\n",
    "    max=20,\n",
    "    step=1,\n",
    "    description='Total images:',\n",
    ")\n",
    "display(n_iter)"
   ]
  },
  {
   "cell_type": "code",
   "execution_count": 15,
   "id": "a922eeec-67e2-4e59-9d9f-1a2dc8cd16fe",
   "metadata": {
    "jupyter": {
     "source_hidden": true
    },
    "tags": []
   },
   "outputs": [
    {
     "data": {
      "application/vnd.jupyter.widget-view+json": {
       "model_id": "88ee17a6b81c44c58c667b9ffa3f0a56",
       "version_major": 2,
       "version_minor": 0
      },
      "text/plain": [
       "IntSlider(value=1, description='Batch size:', max=10, min=1)"
      ]
     },
     "metadata": {},
     "output_type": "display_data"
    }
   ],
   "source": [
    "batch_size = widgets.IntSlider(\n",
    "    value=1,\n",
    "    min=1,\n",
    "    max=10,\n",
    "    step=1,\n",
    "    description='Batch size:',\n",
    ")\n",
    "display(batch_size)"
   ]
  },
  {
   "cell_type": "code",
   "execution_count": 16,
   "id": "103d1706-5201-4702-9688-d22fbb587ac7",
   "metadata": {
    "jupyter": {
     "source_hidden": true
    },
    "tags": []
   },
   "outputs": [
    {
     "data": {
      "application/vnd.jupyter.widget-view+json": {
       "model_id": "8c429cd96fce42e28a85c335b539801b",
       "version_major": 2,
       "version_minor": 0
      },
      "text/plain": [
       "FloatSlider(value=7.5, description='Cfg scale:', max=20.0, min=1.0, readout_format='.1f', step=0.25)"
      ]
     },
     "metadata": {},
     "output_type": "display_data"
    }
   ],
   "source": [
    "cfg_scale = widgets.FloatSlider(\n",
    "    value=7.5,\n",
    "    min=1.0,\n",
    "    max=20.0,\n",
    "    step=0.25,\n",
    "    description='Cfg scale:',\n",
    "    readout_format='.1f',\n",
    ")\n",
    "display(cfg_scale)"
   ]
  },
  {
   "cell_type": "code",
   "execution_count": 17,
   "id": "0a79bb27-e842-43ae-a782-d026da331f22",
   "metadata": {
    "jupyter": {
     "source_hidden": true
    },
    "tags": []
   },
   "outputs": [
    {
     "data": {
      "application/vnd.jupyter.widget-view+json": {
       "model_id": "92501503b4594e86b7e8934701ccc119",
       "version_major": 2,
       "version_minor": 0
      },
      "text/plain": [
       "IntSlider(value=768, description='Height:', max=4096, min=128, step=2)"
      ]
     },
     "metadata": {},
     "output_type": "display_data"
    }
   ],
   "source": [
    "height = widgets.IntSlider(\n",
    "    value=768,\n",
    "    min=128,\n",
    "    max=4096,\n",
    "    step=2,\n",
    "    description='Height:',\n",
    ")\n",
    "display(height)"
   ]
  },
  {
   "cell_type": "code",
   "execution_count": 18,
   "id": "6a852305-ec24-4739-af16-40c9e4ef4cc8",
   "metadata": {
    "jupyter": {
     "source_hidden": true
    },
    "tags": []
   },
   "outputs": [
    {
     "data": {
      "application/vnd.jupyter.widget-view+json": {
       "model_id": "e0a3a1731d7d42f8bd0b849c92bf09d4",
       "version_major": 2,
       "version_minor": 0
      },
      "text/plain": [
       "IntSlider(value=768, description='Width:', max=4096, min=128, step=2)"
      ]
     },
     "metadata": {},
     "output_type": "display_data"
    }
   ],
   "source": [
    "width = widgets.IntSlider(\n",
    "    value=768,\n",
    "    min=128,\n",
    "    max=4096,\n",
    "    step=2,\n",
    "    description='Width:',\n",
    ")\n",
    "display(width)"
   ]
  },
  {
   "cell_type": "code",
   "execution_count": 19,
   "id": "95b2a0ac-24ba-4442-b759-0d8e4b1b5ec5",
   "metadata": {
    "jupyter": {
     "source_hidden": true
    },
    "tags": []
   },
   "outputs": [
    {
     "data": {
      "application/vnd.jupyter.widget-view+json": {
       "model_id": "6962356ae0c946578699ecdf2f8671f0",
       "version_major": 2,
       "version_minor": 0
      },
      "text/plain": [
       "Dropdown(description='Sampler:', index=1, options=('ddim_sampler', 'p_sampler', 'plms_sampler'), value='p_samp…"
      ]
     },
     "metadata": {},
     "output_type": "display_data"
    }
   ],
   "source": [
    "sampler = widgets.Dropdown(\n",
    "    options=['ddim_sampler', 'p_sampler', 'plms_sampler'],\n",
    "    value='p_sampler',\n",
    "    description='Sampler:',\n",
    "    disabled=False,\n",
    ")\n",
    "display(sampler)"
   ]
  },
  {
   "cell_type": "code",
   "execution_count": 32,
   "id": "193ba430-ee2d-4ec1-b40f-77ce71cb14b4",
   "metadata": {
    "jupyter": {
     "source_hidden": true
    },
    "tags": []
   },
   "outputs": [],
   "source": [
    "def images_processing(images):\n",
    "    for postfix, img in enumerate(images):\n",
    "        display(img)\n",
    "        if save_imgs.value:\n",
    "            prefix = locals().get(img_name_prefix.value, formatted_now)()\n",
    "            fname = f\"{prefix}_{postfix}.png\"\n",
    "            s_path = path.join(save_path.value, fname)\n",
    "            print(s_path)\n",
    "            img.save(s_path)"
   ]
  },
  {
   "cell_type": "code",
   "execution_count": 33,
   "id": "010c0d46-fb7b-4f92-9be2-62e41bfe812f",
   "metadata": {
    "jupyter": {
     "source_hidden": true
    },
    "tags": []
   },
   "outputs": [],
   "source": [
    "out = widgets.Output()\n",
    "\n",
    "@out.capture(clear_output=True)\n",
    "def txt2img(event):\n",
    "    if seed.value != -1:\n",
    "        torch.manual_seed(seed.value)\n",
    "        torch.cuda.manual_seed_all(seed.value)\n",
    "    \n",
    "    images = []\n",
    "    for cur_iter in range(n_iter.value):\n",
    "        image_iter = model.generate_text2img(\n",
    "            prompt.value,\n",
    "            num_steps=steps.value,\n",
    "            batch_size=batch_size.value,\n",
    "            guidance_scale=cfg_scale.value,\n",
    "            h=height.value,\n",
    "            w=width.value,\n",
    "            sampler=sampler.value, \n",
    "            prior_cf_scale=4,\n",
    "            prior_steps=\"5\"\n",
    "        )\n",
    "        torch_gc()\n",
    "        if im_per_iter.value:\n",
    "            images_processing(image_iter)\n",
    "        else:\n",
    "            images.extend(image_iter)\n",
    "\n",
    "\n",
    "    if not im_per_iter.value and images:\n",
    "        images_processing(images)"
   ]
  },
  {
   "cell_type": "code",
   "execution_count": 34,
   "id": "c774988e-f7f0-4cff-86cd-adb8320db8a8",
   "metadata": {
    "jupyter": {
     "source_hidden": true
    },
    "tags": []
   },
   "outputs": [
    {
     "data": {
      "application/vnd.jupyter.widget-view+json": {
       "model_id": "12942b49184f4c58aa472b92200624a6",
       "version_major": 2,
       "version_minor": 0
      },
      "text/plain": [
       "Button(description='Generate', style=ButtonStyle())"
      ]
     },
     "metadata": {},
     "output_type": "display_data"
    },
    {
     "data": {
      "application/vnd.jupyter.widget-view+json": {
       "model_id": "54c150827d2c4768bc65b6673ac25b19",
       "version_major": 2,
       "version_minor": 0
      },
      "text/plain": [
       "Output()"
      ]
     },
     "metadata": {},
     "output_type": "display_data"
    }
   ],
   "source": [
    "generate = widgets.Button(description=\"Generate\")\n",
    "display(generate)\n",
    "generate.on_click(txt2img)\n",
    "display(out)"
   ]
  }
 ],
 "metadata": {
  "kernelspec": {
   "display_name": "Python 3 (ipykernel)",
   "language": "python",
   "name": "python3"
  },
  "language_info": {
   "codemirror_mode": {
    "name": "ipython",
    "version": 3
   },
   "file_extension": ".py",
   "mimetype": "text/x-python",
   "name": "python",
   "nbconvert_exporter": "python",
   "pygments_lexer": "ipython3",
   "version": "3.10.6"
  }
 },
 "nbformat": 4,
 "nbformat_minor": 5
}
