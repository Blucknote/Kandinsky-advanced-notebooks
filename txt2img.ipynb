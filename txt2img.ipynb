{
 "cells": [
  {
   "cell_type": "code",
   "execution_count": null,
   "id": "67c054e2-be3f-49b9-b76d-c3f617b06900",
   "metadata": {},
   "outputs": [],
   "source": [
    "# Uncomment and run this cell to get nice real time updating GPU widget\n",
    "#!pip install jupyterlab-nvdashboard\n",
    "# https://developer.nvidia.com/blog/gpu-dashboards-in-jupyter-lab/"
   ]
  },
  {
   "cell_type": "code",
   "execution_count": null,
   "id": "8afa132e-c165-4101-80ad-eaa7edcddb74",
   "metadata": {
    "tags": []
   },
   "outputs": [],
   "source": [
    "import ui.txt2img_ui"
   ]
  }
 ],
 "metadata": {
  "kernelspec": {
   "display_name": "Python 3 (ipykernel)",
   "language": "python",
   "name": "python3"
  },
  "language_info": {
   "codemirror_mode": {
    "name": "ipython",
    "version": 3
   },
   "file_extension": ".py",
   "mimetype": "text/x-python",
   "name": "python",
   "nbconvert_exporter": "python",
   "pygments_lexer": "ipython3",
   "version": "3.10.6"
  }
 },
 "nbformat": 4,
 "nbformat_minor": 5
}
