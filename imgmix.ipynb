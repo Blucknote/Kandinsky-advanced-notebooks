{
 "cells": [
  {
   "cell_type": "code",
   "execution_count": null,
   "id": "83ae0409-e230-4809-a0d6-8ec5c4374959",
   "metadata": {
    "tags": []
   },
   "outputs": [],
   "source": [
    "import ui.imgsmix_ui as mix_ui\n",
    "# UI will appear when model loaded"
   ]
  }
 ],
 "metadata": {
  "kernelspec": {
   "display_name": "Python 3 (ipykernel)",
   "language": "python",
   "name": "python3"
  },
  "language_info": {
   "codemirror_mode": {
    "name": "ipython",
    "version": 3
   },
   "file_extension": ".py",
   "mimetype": "text/x-python",
   "name": "python",
   "nbconvert_exporter": "python",
   "pygments_lexer": "ipython3",
   "version": "3.10.6"
  }
 },
 "nbformat": 4,
 "nbformat_minor": 5
}
