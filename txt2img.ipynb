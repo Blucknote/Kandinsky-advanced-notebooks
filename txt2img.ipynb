{
 "cells": [
  {
   "cell_type": "code",
   "execution_count": null,
   "id": "67c054e2-be3f-49b9-b76d-c3f617b06900",
   "metadata": {},
   "outputs": [],
   "source": [
    "# Run this cell to get nice real time updating GPU widget\n",
    "!pip install jupyterlab-nvdashboard\n",
    "# ttps://developer.nvidia.com/blog/gpu-dashboards-in-jupyter-lab/"
   ]
  },
  {
   "cell_type": "code",
   "execution_count": 1,
   "id": "5a147249-219e-4036-a1c1-0741295ff808",
   "metadata": {
    "tags": []
   },
   "outputs": [],
   "source": [
    "from datetime import datetime\n",
    "from os import path\n",
    "import torch\n",
    "import ipywidgets as widgets\n",
    "from kandinsky2 import get_kandinsky2"
   ]
  },
  {
   "cell_type": "code",
   "execution_count": 2,
   "id": "8ebc793d-e995-492e-9d3c-b77131c42210",
   "metadata": {
    "tags": []
   },
   "outputs": [
    {
     "name": "stderr",
     "output_type": "stream",
     "text": [
      "/mnt/h/AIart/stable-diffusion/stable-diffusion-webui/venv/lib/python3.10/site-packages/huggingface_hub/file_download.py:637: FutureWarning: `cached_download` is the legacy way to download files from the HF hub, please consider upgrading to `hf_hub_download`\n",
      "  warnings.warn(\n"
     ]
    },
    {
     "name": "stdout",
     "output_type": "stream",
     "text": [
      "making attention of type 'vanilla' with 512 in_channels\n",
      "making attention of type 'vanilla' with 512 in_channels\n",
      "making attention of type 'vanilla' with 512 in_channels\n",
      "Working with z of shape (1, 4, 32, 32) = 4096 dimensions.\n"
     ]
    }
   ],
   "source": [
    "model = get_kandinsky2(\n",
    "    'cuda', \n",
    "    task_type='text2img', \n",
    "    cache_dir='/tmp/kandinsky2', \n",
    "    model_version='2.1', \n",
    "    use_flash_attention=False\n",
    ")\n",
    "\n",
    "def torch_gc():\n",
    "   with torch.cuda.device(\"cuda\"):\n",
    "        torch.cuda.empty_cache()\n",
    "        torch.cuda.ipc_collect()"
   ]
  },
  {
   "cell_type": "code",
   "execution_count": 5,
   "id": "24a59cdb-d8b0-4dde-8de9-a51b60fdd24d",
   "metadata": {
    "tags": []
   },
   "outputs": [
    {
     "data": {
      "application/vnd.jupyter.widget-view+json": {
       "model_id": "6cf8889dcc11403680a5dcc1fb0dcfb4",
       "version_major": 2,
       "version_minor": 0
      },
      "text/plain": [
       "Checkbox(value=False, description='Display image per iteration')"
      ]
     },
     "metadata": {},
     "output_type": "display_data"
    },
    {
     "data": {
      "application/vnd.jupyter.widget-view+json": {
       "model_id": "b7d2db90ce9e47d7a718d85097a29ec5",
       "version_major": 2,
       "version_minor": 0
      },
      "text/plain": [
       "Checkbox(value=False, description='Save all out images')"
      ]
     },
     "metadata": {},
     "output_type": "display_data"
    },
    {
     "data": {
      "application/vnd.jupyter.widget-view+json": {
       "model_id": "df25229ec36a4898bfc59fffe89401e6",
       "version_major": 2,
       "version_minor": 0
      },
      "text/plain": [
       "Text(value='', description='Save path:')"
      ]
     },
     "metadata": {},
     "output_type": "display_data"
    },
    {
     "data": {
      "application/vnd.jupyter.widget-view+json": {
       "model_id": "50d4c9860209477395430f6adc14b474",
       "version_major": 2,
       "version_minor": 0
      },
      "text/plain": [
       "Text(value='formatted_now', description='Name prefix:')"
      ]
     },
     "metadata": {},
     "output_type": "display_data"
    },
    {
     "data": {
      "application/vnd.jupyter.widget-view+json": {
       "model_id": "bc5728c1a6d74622a186ea193c363338",
       "version_major": 2,
       "version_minor": 0
      },
      "text/plain": [
       "Textarea(value='', description='Prompt:')"
      ]
     },
     "metadata": {},
     "output_type": "display_data"
    },
    {
     "data": {
      "application/vnd.jupyter.widget-view+json": {
       "model_id": "e47f7c925006417dbd621c3d7d11ccb3",
       "version_major": 2,
       "version_minor": 0
      },
      "text/plain": [
       "IntText(value=-1, description='Seed:')"
      ]
     },
     "metadata": {},
     "output_type": "display_data"
    },
    {
     "data": {
      "application/vnd.jupyter.widget-view+json": {
       "model_id": "a4ff0d9eac5140d5b9d21a818f2cbdb9",
       "version_major": 2,
       "version_minor": 0
      },
      "text/plain": [
       "IntSlider(value=30, description='Steps:')"
      ]
     },
     "metadata": {},
     "output_type": "display_data"
    },
    {
     "data": {
      "application/vnd.jupyter.widget-view+json": {
       "model_id": "fd29ecc7b269420d8be8d7c212e344f7",
       "version_major": 2,
       "version_minor": 0
      },
      "text/plain": [
       "IntSlider(value=6, description='Total images:', max=20, min=1)"
      ]
     },
     "metadata": {},
     "output_type": "display_data"
    },
    {
     "data": {
      "application/vnd.jupyter.widget-view+json": {
       "model_id": "916830d06c96484caf587615a8e40222",
       "version_major": 2,
       "version_minor": 0
      },
      "text/plain": [
       "IntSlider(value=1, description='Batch size:', max=10, min=1)"
      ]
     },
     "metadata": {},
     "output_type": "display_data"
    },
    {
     "data": {
      "application/vnd.jupyter.widget-view+json": {
       "model_id": "46efd803dc814b0f988e0f53fd478f24",
       "version_major": 2,
       "version_minor": 0
      },
      "text/plain": [
       "FloatSlider(value=7.5, description='Cfg scale:', max=20.0, min=1.0, readout_format='.1f', step=0.25)"
      ]
     },
     "metadata": {},
     "output_type": "display_data"
    },
    {
     "data": {
      "application/vnd.jupyter.widget-view+json": {
       "model_id": "f9cd7b9a5b5c49999deedd379737a7df",
       "version_major": 2,
       "version_minor": 0
      },
      "text/plain": [
       "IntSlider(value=768, description='Height:', max=4096, min=128, step=2)"
      ]
     },
     "metadata": {},
     "output_type": "display_data"
    },
    {
     "data": {
      "application/vnd.jupyter.widget-view+json": {
       "model_id": "17cd87aa13e848a8bee411af6f067c52",
       "version_major": 2,
       "version_minor": 0
      },
      "text/plain": [
       "IntSlider(value=768, description='Width:', max=4096, min=128, step=2)"
      ]
     },
     "metadata": {},
     "output_type": "display_data"
    },
    {
     "data": {
      "application/vnd.jupyter.widget-view+json": {
       "model_id": "d999168aaa29479b9403ed998af029a8",
       "version_major": 2,
       "version_minor": 0
      },
      "text/plain": [
       "Dropdown(description='Sampler:', index=1, options=('ddim_sampler', 'p_sampler', 'plms_sampler'), value='p_samp…"
      ]
     },
     "metadata": {},
     "output_type": "display_data"
    },
    {
     "data": {
      "application/vnd.jupyter.widget-view+json": {
       "model_id": "9e0024fa3ef4462485ad90cf4fc3abfb",
       "version_major": 2,
       "version_minor": 0
      },
      "text/plain": [
       "Button(description='Generate', style=ButtonStyle())"
      ]
     },
     "metadata": {},
     "output_type": "display_data"
    },
    {
     "data": {
      "application/vnd.jupyter.widget-view+json": {
       "model_id": "d8eb140bf40f444b9ac6d5117c55eb3c",
       "version_major": 2,
       "version_minor": 0
      },
      "text/plain": [
       "Output()"
      ]
     },
     "metadata": {},
     "output_type": "display_data"
    }
   ],
   "source": [
    "im_per_iter = widgets.Checkbox(\n",
    "    value=False,\n",
    "    description='Display image per iteration',\n",
    ")\n",
    "display(im_per_iter)\n",
    "\n",
    "def formatted_now():\n",
    "    return datetime.now().strftime(\"%Y-%m-%d_%H-%M-%S\")\n",
    "\n",
    "save_imgs = widgets.Checkbox(\n",
    "    value=False,\n",
    "    description='Save all out images',\n",
    ")\n",
    "\n",
    "display(save_imgs)\n",
    "\n",
    "save_path = widgets.Text(value=\"\", description='Save path:')\n",
    "display(save_path)\n",
    "\n",
    "img_name_prefix = widgets.Text(value=\"formatted_now\", description='Name prefix:')\n",
    "display(img_name_prefix)\n",
    "\n",
    "prompt = widgets.Textarea(value=\"\", description='Prompt:')\n",
    "display(prompt)\n",
    "\n",
    "seed = widgets.IntText(\n",
    "    value=-1,\n",
    "    description='Seed:',\n",
    "    disabled=False\n",
    ")\n",
    "display(seed)\n",
    "\n",
    "steps = widgets.IntSlider(\n",
    "    value=30,\n",
    "    step=1,\n",
    "    description='Steps:',\n",
    ")\n",
    "display(steps)\n",
    "\n",
    "n_iter = widgets.IntSlider(\n",
    "    value=6,\n",
    "    min=1,\n",
    "    max=20,\n",
    "    step=1,\n",
    "    description='Total images:',\n",
    ")\n",
    "display(n_iter)\n",
    "\n",
    "batch_size = widgets.IntSlider(\n",
    "    value=1,\n",
    "    min=1,\n",
    "    max=10,\n",
    "    step=1,\n",
    "    description='Batch size:',\n",
    ")\n",
    "display(batch_size)\n",
    "\n",
    "cfg_scale = widgets.FloatSlider(\n",
    "    value=7.5,\n",
    "    min=1.0,\n",
    "    max=20.0,\n",
    "    step=0.25,\n",
    "    description='Cfg scale:',\n",
    "    readout_format='.1f',\n",
    ")\n",
    "display(cfg_scale)\n",
    "\n",
    "height = widgets.IntSlider(\n",
    "    value=768,\n",
    "    min=128,\n",
    "    max=4096,\n",
    "    step=2,\n",
    "    description='Height:',\n",
    ")\n",
    "display(height)\n",
    "\n",
    "width = widgets.IntSlider(\n",
    "    value=768,\n",
    "    min=128,\n",
    "    max=4096,\n",
    "    step=2,\n",
    "    description='Width:',\n",
    ")\n",
    "display(width)\n",
    "\n",
    "sampler = widgets.Dropdown(\n",
    "    options=['ddim_sampler', 'p_sampler', 'plms_sampler'],\n",
    "    value='p_sampler',\n",
    "    description='Sampler:',\n",
    "    disabled=False,\n",
    ")\n",
    "display(sampler)\n",
    "\n",
    "def images_processing(images):\n",
    "    for postfix, img in enumerate(images):\n",
    "        display(img)\n",
    "        if save_imgs.value:\n",
    "            prefix = locals().get(img_name_prefix.value, formatted_now)()\n",
    "            fname = f\"{prefix}_{postfix}.png\"\n",
    "            s_path = path.join(save_path.value, fname)\n",
    "            print(s_path)\n",
    "            img.save(s_path)\n",
    "\n",
    "out = widgets.Output()\n",
    "\n",
    "@out.capture(clear_output=True)\n",
    "def txt2img(event):\n",
    "    if seed.value != -1:\n",
    "        torch.manual_seed(seed.value)\n",
    "        torch.cuda.manual_seed_all(seed.value)\n",
    "    \n",
    "    images = []\n",
    "    for cur_iter in range(n_iter.value):\n",
    "        image_iter = model.generate_text2img(\n",
    "            prompt.value,\n",
    "            num_steps=steps.value,\n",
    "            batch_size=batch_size.value,\n",
    "            guidance_scale=cfg_scale.value,\n",
    "            h=height.value,\n",
    "            w=width.value,\n",
    "            sampler=sampler.value, \n",
    "            prior_cf_scale=4,\n",
    "            prior_steps=\"5\"\n",
    "        )\n",
    "        torch_gc()\n",
    "        if im_per_iter.value:\n",
    "            images_processing(image_iter)\n",
    "        else:\n",
    "            images.extend(image_iter)\n",
    "\n",
    "\n",
    "    if not im_per_iter.value and images:\n",
    "        images_processing(images)\n",
    "\n",
    "generate = widgets.Button(description=\"Generate\")\n",
    "display(generate)\n",
    "generate.on_click(txt2img)\n",
    "display(out)"
   ]
  }
 ],
 "metadata": {
  "kernelspec": {
   "display_name": "Python 3 (ipykernel)",
   "language": "python",
   "name": "python3"
  },
  "language_info": {
   "codemirror_mode": {
    "name": "ipython",
    "version": 3
   },
   "file_extension": ".py",
   "mimetype": "text/x-python",
   "name": "python",
   "nbconvert_exporter": "python",
   "pygments_lexer": "ipython3",
   "version": "3.10.6"
  }
 },
 "nbformat": 4,
 "nbformat_minor": 5
}
